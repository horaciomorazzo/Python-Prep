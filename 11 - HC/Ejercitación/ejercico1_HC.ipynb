{
 "cells": [
  {
   "attachments": {},
   "cell_type": "markdown",
   "metadata": {},
   "source": [
    "Esta función recibe como parámetro un diccionario, cuyas listas de valores tienen el mismo\n",
    "    tamaño y sus elementos enésimos están asociados. Y otros dos parámetros que indican\n",
    "    la clave por la cual debe ordenarse y si es descendente o ascendente.\n",
    "    La función debe devolver el diccionario ordenado, teniendo en cuenta de no perder la\n",
    "    relación entre los elementos enésimos.\n",
    "    Recibe tres argumentos:\n",
    "        diccionario:    Diccionario a ordenar.\n",
    "        clave:          Clave del diccionario recibido, por la cual ordenar.\n",
    "        descendente:    Un valor booleano, que al ser verdadero indica ordenamiento ascendente y \n",
    "                        descendente si es falso. \n",
    "                        Debe tratarse de un parámetro por defecto en True.\n",
    "    Si el parámetro diccionario no es un tipo de dato diccionario ó el parámetro clave no \n",
    "    se encuentra dentro de las claves del diccionario, debe devolver nulo.\n",
    "    Ej:\n",
    "        dicc = {'clave1':['c','a','b'],\n",
    "                'clave2':['casa','auto','barco'],\n",
    "                'clave3':[1,2,3]}\n",
    "        OrdenarDiccionario(dicc, 'clave1')          debe retornar {'clave1':['a','b','c'],\n",
    "                                                                'clave2':['auto','barco','casa'],\n",
    "                                                                'clave3':[2,3,1]}\n",
    "        OrdenarDiccionario(dicc, 'clave3', False)   debe retornar {'clave1':['b','a','c'],\n",
    "                                                                'clave2':['barco','auto','casa'],\n",
    "                                                                'clave3':[3,2,1]}"
   ]
  },
  {
   "attachments": {},
   "cell_type": "markdown",
   "metadata": {},
   "source": []
  },
  {
   "cell_type": "code",
   "execution_count": 112,
   "metadata": {},
   "outputs": [
    {
     "name": "stdout",
     "output_type": "stream",
     "text": [
      "{'a': 'b', 'b': 'a', 'c': 'd'}\n"
     ]
    }
   ],
   "source": [
    "a = ['ab','ba','cd']\n",
    "\n",
    "print(dict(a))\n"
   ]
  },
  {
   "cell_type": "code",
   "execution_count": 131,
   "metadata": {},
   "outputs": [
    {
     "name": "stdout",
     "output_type": "stream",
     "text": [
      "[('c', 'casa', 1), ('a', 'auto', 2), ('b', 'barco', 3)]\n",
      "[('b', 'barco', 3), ('a', 'auto', 2), ('c', 'casa', 1)]\n",
      "b\n",
      "a\n",
      "c\n",
      "['b', 'a', 'c']\n",
      "barco\n",
      "auto\n",
      "casa\n",
      "['barco', 'auto', 'casa']\n",
      "3\n",
      "2\n",
      "1\n",
      "[3, 2, 1]\n",
      "[['b', 'a', 'c'], ['barco', 'auto', 'casa'], [3, 2, 1]]\n",
      "{'clave1': ['b', 'a', 'c'], 'clave2': ['barco', 'auto', 'casa'], 'clave3': [3, 2, 1]}\n"
     ]
    }
   ],
   "source": [
    "\n",
    "def OrdenarDiccionario(dicc, clave, ordenar = True):\n",
    "    # verifico que es un diccionario y que la clave está contenida\n",
    "    if (type(dicc) != dict) or ((clave) not in dicc):\n",
    "        return None\n",
    "    a = list(dicc.keys())\n",
    "    # print(a)\n",
    "    # hago una lista con los valores\n",
    "    b = list((dicc.values()))\n",
    "    # print(b[0])\n",
    "    # genero una tupla para mantener la correspondencia de los enésimos valores\n",
    "    tupla = zip(b[0],b[1],b[2])\n",
    "    # convierto la tupla en lista\n",
    "    c = list(tupla)\n",
    "    print(c)\n",
    "    # extraigo el índice de la clave\n",
    "    indice = list(dicc.keys()).index(clave)\n",
    "    #\n",
    "    # ordenamos por la clave correspondiente\n",
    "    c_ordenadas = sorted(c, key=lambda item: item[indice])\n",
    "    # si elegimos orden inverso, invertimos el ordenamiento\n",
    "    if ordenar == False:\n",
    "        c_ordenadas.reverse()\n",
    "    print(c_ordenadas)\n",
    "    #\n",
    "    # convertimos las tuplas en listas, para poder usar append\n",
    "    nuevalista = []\n",
    "    for o in c_ordenadas: nuevalista.append(list(o))\n",
    "    #           \n",
    "    # armamos la lista final de valores\n",
    "    listafinal = []\n",
    "    elemento = []\n",
    "    for t in range(0, len(nuevalista)):\n",
    "        #listafinal.append(elemento)\n",
    "        elemento = []\n",
    "        for l in nuevalista:\n",
    "            print(l[t])\n",
    "            elemento.append(l[t])\n",
    "        print(elemento)\n",
    "        listafinal.append(elemento)\n",
    "    print(listafinal)\n",
    "    finaldicc = dict(zip(a,listafinal))\n",
    "    print(finaldicc)\n",
    "                    \n",
    "            \n",
    "dicc = {'clave1':['c','a','b'],'clave2':['casa','auto','barco'],'clave3':[1,2,3]}\n",
    "a = OrdenarDiccionario(dicc, 'clave3', False)\n",
    "\n",
    "\n",
    "\n",
    "\n",
    "\n",
    "\n",
    "\n",
    "\n",
    "\n"
   ]
  },
  {
   "attachments": {},
   "cell_type": "markdown",
   "metadata": {},
   "source": [
    "{'clave1':['b','a','c'],\n",
    "  'clave2':['barco','auto','casa'                             'clave3':[3,2,1]}"
   ]
  }
 ],
 "metadata": {
  "kernelspec": {
   "display_name": "Python 3",
   "language": "python",
   "name": "python3"
  },
  "language_info": {
   "codemirror_mode": {
    "name": "ipython",
    "version": 3
   },
   "file_extension": ".py",
   "mimetype": "text/x-python",
   "name": "python",
   "nbconvert_exporter": "python",
   "pygments_lexer": "ipython3",
   "version": "3.11.2"
  },
  "orig_nbformat": 4
 },
 "nbformat": 4,
 "nbformat_minor": 2
}
