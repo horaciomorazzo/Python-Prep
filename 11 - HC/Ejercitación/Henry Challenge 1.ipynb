{
 "cells": [
  {
   "cell_type": "code",
   "execution_count": 1,
   "metadata": {},
   "outputs": [
    {
     "name": "stdout",
     "output_type": "stream",
     "text": [
      "['Argentina', 'Italia', 'Francia']\n"
     ]
    }
   ],
   "source": [
    "mi_diccionario = {'País':['Argentina','Italia','Francia'],'Continente':['América','Europa','Europa'],'Ciudad':['Córdoba','Venecia','Niza']}\n",
    "print(mi_diccionario['País'])"
   ]
  },
  {
   "cell_type": "code",
   "execution_count": 2,
   "metadata": {},
   "outputs": [
    {
     "ename": "TypeError",
     "evalue": "'builtin_function_or_method' object is not subscriptable",
     "output_type": "error",
     "traceback": [
      "\u001b[1;31m---------------------------------------------------------------------------\u001b[0m",
      "\u001b[1;31mTypeError\u001b[0m                                 Traceback (most recent call last)",
      "Cell \u001b[1;32mIn[2], line 1\u001b[0m\n\u001b[1;32m----> 1\u001b[0m \u001b[39msorted\u001b[39;49m[(\u001b[39m'\u001b[39;49m\u001b[39mb\u001b[39;49m\u001b[39m'\u001b[39;49m, \u001b[39m'\u001b[39;49m\u001b[39mcarpa\u001b[39;49m\u001b[39m'\u001b[39;49m, \u001b[39m3\u001b[39;49m), (\u001b[39m'\u001b[39;49m\u001b[39ma\u001b[39;49m\u001b[39m'\u001b[39;49m, \u001b[39m'\u001b[39;49m\u001b[39mmatraca\u001b[39;49m\u001b[39m'\u001b[39;49m, \u001b[39m5\u001b[39;49m), (\u001b[39m'\u001b[39;49m\u001b[39mc\u001b[39;49m\u001b[39m'\u001b[39;49m, \u001b[39m'\u001b[39;49m\u001b[39mperro\u001b[39;49m\u001b[39m'\u001b[39;49m, \u001b[39m7\u001b[39;49m)]\n",
      "\u001b[1;31mTypeError\u001b[0m: 'builtin_function_or_method' object is not subscriptable"
     ]
    }
   ],
   "source": [
    "sorted[('b', 'carpa', 3), ('a', 'matraca', 5), ('c', 'perro', 7)]"
   ]
  },
  {
   "cell_type": "code",
   "execution_count": 3,
   "metadata": {},
   "outputs": [
    {
     "data": {
      "text/plain": [
       "<function list.sort(*, key=None, reverse=False)>"
      ]
     },
     "execution_count": 3,
     "metadata": {},
     "output_type": "execute_result"
    }
   ],
   "source": [
    "[('b', 'carpa', 3), ('a', 'matraca', 5), ('c', 'perro', 7)].sort"
   ]
  },
  {
   "cell_type": "code",
   "execution_count": 4,
   "metadata": {},
   "outputs": [
    {
     "name": "stdout",
     "output_type": "stream",
     "text": [
      "False\n"
     ]
    }
   ],
   "source": [
    "print('b'<'a')"
   ]
  },
  {
   "cell_type": "code",
   "execution_count": 5,
   "metadata": {},
   "outputs": [
    {
     "name": "stdout",
     "output_type": "stream",
     "text": [
      "True\n"
     ]
    }
   ],
   "source": [
    "print('b'>'a')"
   ]
  },
  {
   "cell_type": "code",
   "execution_count": 6,
   "metadata": {},
   "outputs": [
    {
     "name": "stdout",
     "output_type": "stream",
     "text": [
      "{'banana': 5, 'apple': 10, 'orange': 20}\n"
     ]
    }
   ],
   "source": [
    "my_dict = {\"apple\": 10, \"orange\": 20, \"banana\": 5}\n",
    "sorted_dict = dict(sorted(my_dict.items(), key=lambda item: item[1]))\n",
    "print(sorted_dict)"
   ]
  },
  {
   "cell_type": "code",
   "execution_count": 7,
   "metadata": {},
   "outputs": [
    {
     "name": "stdout",
     "output_type": "stream",
     "text": [
      "{'banana': (3, 8, 15), 'apple': (10, 20, 30), 'orange': (11, 14, 5)}\n"
     ]
    }
   ],
   "source": [
    "my_dict = {\"apple\": (10,20,30), \"orange\": (11,14,5), \"banana\": (3,8,15)}\n",
    "sorted_dict = dict(sorted(my_dict.items(), key=lambda item: item[1]))\n",
    "print(sorted_dict)"
   ]
  },
  {
   "cell_type": "code",
   "execution_count": 8,
   "metadata": {},
   "outputs": [
    {
     "name": "stdout",
     "output_type": "stream",
     "text": [
      "{'apple': (10, 20, 30), 'banana': (3, 8, 15), 'orange': (11, 14, 5)}\n"
     ]
    }
   ],
   "source": [
    "my_dict = {\"apple\": (10,20,30), \"orange\": (11,14,5), \"banana\": (3,8,15)}\n",
    "sorted_dict = dict(sorted(my_dict.items(), key=lambda item: item[0]))\n",
    "print(sorted_dict)"
   ]
  },
  {
   "cell_type": "code",
   "execution_count": 9,
   "metadata": {},
   "outputs": [
    {
     "ename": "IndexError",
     "evalue": "tuple index out of range",
     "output_type": "error",
     "traceback": [
      "\u001b[1;31m---------------------------------------------------------------------------\u001b[0m",
      "\u001b[1;31mIndexError\u001b[0m                                Traceback (most recent call last)",
      "Cell \u001b[1;32mIn[9], line 2\u001b[0m\n\u001b[0;32m      1\u001b[0m my_dict \u001b[39m=\u001b[39m {\u001b[39m\"\u001b[39m\u001b[39mapple\u001b[39m\u001b[39m\"\u001b[39m: (\u001b[39m10\u001b[39m,\u001b[39m20\u001b[39m,\u001b[39m30\u001b[39m), \u001b[39m\"\u001b[39m\u001b[39morange\u001b[39m\u001b[39m\"\u001b[39m: (\u001b[39m11\u001b[39m,\u001b[39m14\u001b[39m,\u001b[39m5\u001b[39m), \u001b[39m\"\u001b[39m\u001b[39mbanana\u001b[39m\u001b[39m\"\u001b[39m: (\u001b[39m3\u001b[39m,\u001b[39m8\u001b[39m,\u001b[39m15\u001b[39m)}\n\u001b[1;32m----> 2\u001b[0m sorted_dict \u001b[39m=\u001b[39m \u001b[39mdict\u001b[39m(\u001b[39msorted\u001b[39;49m(my_dict\u001b[39m.\u001b[39;49mitems(), key\u001b[39m=\u001b[39;49m\u001b[39mlambda\u001b[39;49;00m item: item[\u001b[39m3\u001b[39;49m]))\n\u001b[0;32m      3\u001b[0m \u001b[39mprint\u001b[39m(sorted_dict)\n",
      "Cell \u001b[1;32mIn[9], line 2\u001b[0m, in \u001b[0;36m<lambda>\u001b[1;34m(item)\u001b[0m\n\u001b[0;32m      1\u001b[0m my_dict \u001b[39m=\u001b[39m {\u001b[39m\"\u001b[39m\u001b[39mapple\u001b[39m\u001b[39m\"\u001b[39m: (\u001b[39m10\u001b[39m,\u001b[39m20\u001b[39m,\u001b[39m30\u001b[39m), \u001b[39m\"\u001b[39m\u001b[39morange\u001b[39m\u001b[39m\"\u001b[39m: (\u001b[39m11\u001b[39m,\u001b[39m14\u001b[39m,\u001b[39m5\u001b[39m), \u001b[39m\"\u001b[39m\u001b[39mbanana\u001b[39m\u001b[39m\"\u001b[39m: (\u001b[39m3\u001b[39m,\u001b[39m8\u001b[39m,\u001b[39m15\u001b[39m)}\n\u001b[1;32m----> 2\u001b[0m sorted_dict \u001b[39m=\u001b[39m \u001b[39mdict\u001b[39m(\u001b[39msorted\u001b[39m(my_dict\u001b[39m.\u001b[39mitems(), key\u001b[39m=\u001b[39m\u001b[39mlambda\u001b[39;00m item: item[\u001b[39m3\u001b[39;49m]))\n\u001b[0;32m      3\u001b[0m \u001b[39mprint\u001b[39m(sorted_dict)\n",
      "\u001b[1;31mIndexError\u001b[0m: tuple index out of range"
     ]
    }
   ],
   "source": [
    "my_dict = {\"apple\": (10,20,30), \"orange\": (11,14,5), \"banana\": (3,8,15)}\n",
    "sorted_dict = dict(sorted(my_dict.items(), key=lambda item: item[3]))\n",
    "print(sorted_dict)"
   ]
  },
  {
   "cell_type": "code",
   "execution_count": 10,
   "metadata": {},
   "outputs": [
    {
     "ename": "IndexError",
     "evalue": "tuple index out of range",
     "output_type": "error",
     "traceback": [
      "\u001b[1;31m---------------------------------------------------------------------------\u001b[0m",
      "\u001b[1;31mIndexError\u001b[0m                                Traceback (most recent call last)",
      "Cell \u001b[1;32mIn[10], line 2\u001b[0m\n\u001b[0;32m      1\u001b[0m my_dict \u001b[39m=\u001b[39m {\u001b[39m\"\u001b[39m\u001b[39mapple\u001b[39m\u001b[39m\"\u001b[39m: (\u001b[39m10\u001b[39m,\u001b[39m20\u001b[39m,\u001b[39m30\u001b[39m), \u001b[39m\"\u001b[39m\u001b[39morange\u001b[39m\u001b[39m\"\u001b[39m: (\u001b[39m11\u001b[39m,\u001b[39m14\u001b[39m,\u001b[39m5\u001b[39m), \u001b[39m\"\u001b[39m\u001b[39mbanana\u001b[39m\u001b[39m\"\u001b[39m: (\u001b[39m3\u001b[39m,\u001b[39m8\u001b[39m,\u001b[39m15\u001b[39m)}\n\u001b[1;32m----> 2\u001b[0m sorted_dict \u001b[39m=\u001b[39m \u001b[39mdict\u001b[39m(\u001b[39msorted\u001b[39;49m(my_dict\u001b[39m.\u001b[39;49mitems(), key\u001b[39m=\u001b[39;49m\u001b[39mlambda\u001b[39;49;00m item: item[\u001b[39m2\u001b[39;49m]))\n\u001b[0;32m      3\u001b[0m \u001b[39mprint\u001b[39m(sorted_dict)\n",
      "Cell \u001b[1;32mIn[10], line 2\u001b[0m, in \u001b[0;36m<lambda>\u001b[1;34m(item)\u001b[0m\n\u001b[0;32m      1\u001b[0m my_dict \u001b[39m=\u001b[39m {\u001b[39m\"\u001b[39m\u001b[39mapple\u001b[39m\u001b[39m\"\u001b[39m: (\u001b[39m10\u001b[39m,\u001b[39m20\u001b[39m,\u001b[39m30\u001b[39m), \u001b[39m\"\u001b[39m\u001b[39morange\u001b[39m\u001b[39m\"\u001b[39m: (\u001b[39m11\u001b[39m,\u001b[39m14\u001b[39m,\u001b[39m5\u001b[39m), \u001b[39m\"\u001b[39m\u001b[39mbanana\u001b[39m\u001b[39m\"\u001b[39m: (\u001b[39m3\u001b[39m,\u001b[39m8\u001b[39m,\u001b[39m15\u001b[39m)}\n\u001b[1;32m----> 2\u001b[0m sorted_dict \u001b[39m=\u001b[39m \u001b[39mdict\u001b[39m(\u001b[39msorted\u001b[39m(my_dict\u001b[39m.\u001b[39mitems(), key\u001b[39m=\u001b[39m\u001b[39mlambda\u001b[39;00m item: item[\u001b[39m2\u001b[39;49m]))\n\u001b[0;32m      3\u001b[0m \u001b[39mprint\u001b[39m(sorted_dict)\n",
      "\u001b[1;31mIndexError\u001b[0m: tuple index out of range"
     ]
    }
   ],
   "source": [
    "my_dict = {\"apple\": (10,20,30), \"orange\": (11,14,5), \"banana\": (3,8,15)}\n",
    "sorted_dict = dict(sorted(my_dict.items(), key=lambda item: item[2]))\n",
    "print(sorted_dict)"
   ]
  },
  {
   "cell_type": "code",
   "execution_count": 11,
   "metadata": {},
   "outputs": [
    {
     "ename": "SyntaxError",
     "evalue": "invalid syntax (<ipython-input-11-4c5490cab8a4>, line 2)",
     "output_type": "error",
     "traceback": [
      "\u001b[1;36m  Cell \u001b[1;32mIn[11], line 2\u001b[1;36m\u001b[0m\n\u001b[1;33m    ----> 2 sorted_dict = dict(sorted(my_dict.items(), key=lambda item: item[1]))\u001b[0m\n\u001b[1;37m       ^\u001b[0m\n\u001b[1;31mSyntaxError\u001b[0m\u001b[1;31m:\u001b[0m invalid syntax\n"
     ]
    }
   ],
   "source": [
    "my_dict = {\"apple\": (10,20,30), \"orange\": (11,14,5), \"banana\": (3,8,15)}\n",
    "----> 2 sorted_dict = dict(sorted(my_dict.items(), key=lambda item: item[1]))\n",
    "      3 print(sorted_dict)"
   ]
  },
  {
   "cell_type": "code",
   "execution_count": 12,
   "metadata": {},
   "outputs": [
    {
     "name": "stdout",
     "output_type": "stream",
     "text": [
      "{'banana': (3, 8, 15), 'apple': (10, 20, 30), 'orange': (11, 14, 5)}\n"
     ]
    }
   ],
   "source": [
    "my_dict = {\"apple\": (10,20,30), \"orange\": (11,14,5), \"banana\": (3,8,15)}\n",
    "sorted_dict = dict(sorted(my_dict.items(), key=lambda item: item[1]))\n",
    "print(sorted_dict)"
   ]
  },
  {
   "cell_type": "code",
   "execution_count": 13,
   "metadata": {},
   "outputs": [
    {
     "ename": "TypeError",
     "evalue": "'value' is an invalid keyword argument for sort()",
     "output_type": "error",
     "traceback": [
      "\u001b[1;31m---------------------------------------------------------------------------\u001b[0m",
      "\u001b[1;31mTypeError\u001b[0m                                 Traceback (most recent call last)",
      "Cell \u001b[1;32mIn[13], line 2\u001b[0m\n\u001b[0;32m      1\u001b[0m my_dict \u001b[39m=\u001b[39m {\u001b[39m\"\u001b[39m\u001b[39mapple\u001b[39m\u001b[39m\"\u001b[39m: (\u001b[39m10\u001b[39m,\u001b[39m20\u001b[39m,\u001b[39m30\u001b[39m), \u001b[39m\"\u001b[39m\u001b[39morange\u001b[39m\u001b[39m\"\u001b[39m: (\u001b[39m11\u001b[39m,\u001b[39m14\u001b[39m,\u001b[39m5\u001b[39m), \u001b[39m\"\u001b[39m\u001b[39mbanana\u001b[39m\u001b[39m\"\u001b[39m: (\u001b[39m3\u001b[39m,\u001b[39m8\u001b[39m,\u001b[39m15\u001b[39m)}\n\u001b[1;32m----> 2\u001b[0m sorted_dict \u001b[39m=\u001b[39m \u001b[39mdict\u001b[39m(\u001b[39msorted\u001b[39;49m(my_dict\u001b[39m.\u001b[39;49mitems(), value\u001b[39m=\u001b[39;49m\u001b[39mlambda\u001b[39;49;00m item: item[\u001b[39m1\u001b[39;49m]))\n\u001b[0;32m      3\u001b[0m \u001b[39mprint\u001b[39m(sorted_dict)\n",
      "\u001b[1;31mTypeError\u001b[0m: 'value' is an invalid keyword argument for sort()"
     ]
    }
   ],
   "source": [
    "my_dict = {\"apple\": (10,20,30), \"orange\": (11,14,5), \"banana\": (3,8,15)}\n",
    "sorted_dict = dict(sorted(my_dict.items(), value=lambda item: item[1]))\n",
    "print(sorted_dict)"
   ]
  },
  {
   "cell_type": "code",
   "execution_count": 14,
   "metadata": {},
   "outputs": [],
   "source": [
    "dicc = {'clave1':['b','a','c'],'clave2':['carpa','matraca','perro'],'clave3':[3,5,7]}"
   ]
  },
  {
   "cell_type": "code",
   "execution_count": 15,
   "metadata": {},
   "outputs": [
    {
     "name": "stdout",
     "output_type": "stream",
     "text": [
      "('clave1', 'clave2', 'clave3')\n"
     ]
    }
   ],
   "source": [
    "print(tuple(dicc))"
   ]
  },
  {
   "cell_type": "code",
   "execution_count": 16,
   "metadata": {},
   "outputs": [
    {
     "name": "stdout",
     "output_type": "stream",
     "text": [
      "<built-in method values of dict object at 0x000002220826FE80>\n"
     ]
    }
   ],
   "source": [
    "print(dicc.values)"
   ]
  },
  {
   "cell_type": "code",
   "execution_count": 17,
   "metadata": {},
   "outputs": [
    {
     "ename": "TypeError",
     "evalue": "'builtin_function_or_method' object is not iterable",
     "output_type": "error",
     "traceback": [
      "\u001b[1;31m---------------------------------------------------------------------------\u001b[0m",
      "\u001b[1;31mTypeError\u001b[0m                                 Traceback (most recent call last)",
      "Cell \u001b[1;32mIn[17], line 1\u001b[0m\n\u001b[1;32m----> 1\u001b[0m \u001b[39mprint\u001b[39m(\u001b[39mlist\u001b[39;49m(dicc\u001b[39m.\u001b[39;49mvalues))\n",
      "\u001b[1;31mTypeError\u001b[0m: 'builtin_function_or_method' object is not iterable"
     ]
    }
   ],
   "source": [
    "print(list(dicc.values))"
   ]
  },
  {
   "cell_type": "code",
   "execution_count": 18,
   "metadata": {},
   "outputs": [
    {
     "ename": "TypeError",
     "evalue": "'builtin_function_or_method' object is not iterable",
     "output_type": "error",
     "traceback": [
      "\u001b[1;31m---------------------------------------------------------------------------\u001b[0m",
      "\u001b[1;31mTypeError\u001b[0m                                 Traceback (most recent call last)",
      "Cell \u001b[1;32mIn[18], line 1\u001b[0m\n\u001b[1;32m----> 1\u001b[0m \u001b[39mlist\u001b[39;49m(dicc\u001b[39m.\u001b[39;49mvalues)\n",
      "\u001b[1;31mTypeError\u001b[0m: 'builtin_function_or_method' object is not iterable"
     ]
    }
   ],
   "source": [
    "list(dicc.values)"
   ]
  },
  {
   "cell_type": "code",
   "execution_count": 19,
   "metadata": {},
   "outputs": [],
   "source": [
    " tupla_a = ('c', 'perro', 7)"
   ]
  },
  {
   "cell_type": "code",
   "execution_count": 20,
   "metadata": {},
   "outputs": [],
   "source": [
    "tupla_a = ('c', 'perro', 7)"
   ]
  },
  {
   "cell_type": "code",
   "execution_count": 21,
   "metadata": {},
   "outputs": [],
   "source": [
    "lista_vacia = []"
   ]
  },
  {
   "cell_type": "code",
   "execution_count": 22,
   "metadata": {},
   "outputs": [],
   "source": [
    "c_ordenadas = [('c', 'perro', 7), ('a', 'matraca', 5), ('b', 'carpa', 3)]"
   ]
  },
  {
   "cell_type": "code",
   "execution_count": 23,
   "metadata": {},
   "outputs": [
    {
     "name": "stdout",
     "output_type": "stream",
     "text": [
      "('c', 'perro', 7)\n"
     ]
    }
   ],
   "source": [
    "print(c_ordenadas[0])"
   ]
  },
  {
   "cell_type": "code",
   "execution_count": 24,
   "metadata": {},
   "outputs": [
    {
     "ename": "TypeError",
     "evalue": "list indices must be integers or slices, not tuple",
     "output_type": "error",
     "traceback": [
      "\u001b[1;31m---------------------------------------------------------------------------\u001b[0m",
      "\u001b[1;31mTypeError\u001b[0m                                 Traceback (most recent call last)",
      "Cell \u001b[1;32mIn[24], line 2\u001b[0m\n\u001b[0;32m      1\u001b[0m \u001b[39mfor\u001b[39;00m l \u001b[39min\u001b[39;00m c_ordenadas [\u001b[39m0\u001b[39m]:\n\u001b[1;32m----> 2\u001b[0m     \u001b[39mprint\u001b[39m(c_ordenadas[\u001b[39m0\u001b[39;49m,l])\n",
      "\u001b[1;31mTypeError\u001b[0m: list indices must be integers or slices, not tuple"
     ]
    }
   ],
   "source": [
    "for l in c_ordenadas [0]:\n",
    "    print(c_ordenadas[0,l])\n"
   ]
  },
  {
   "cell_type": "code",
   "execution_count": 25,
   "metadata": {},
   "outputs": [
    {
     "name": "stdout",
     "output_type": "stream",
     "text": [
      "('c', 'perro', 7)\n",
      "('c', 'perro', 7)\n",
      "('c', 'perro', 7)\n"
     ]
    }
   ],
   "source": [
    "for l in c_ordenadas [0]:\n",
    "    print(c_ordenadas[0])\n"
   ]
  },
  {
   "cell_type": "code",
   "execution_count": 26,
   "metadata": {},
   "outputs": [
    {
     "name": "stdout",
     "output_type": "stream",
     "text": [
      "c\n",
      "perro\n",
      "7\n"
     ]
    }
   ],
   "source": [
    "for l in c_ordenadas [0]:\n",
    "    print(l)\n"
   ]
  },
  {
   "cell_type": "code",
   "execution_count": 27,
   "metadata": {},
   "outputs": [
    {
     "ename": "TypeError",
     "evalue": "descriptor 'append' for 'list' objects doesn't apply to a 'str' object",
     "output_type": "error",
     "traceback": [
      "\u001b[1;31m---------------------------------------------------------------------------\u001b[0m",
      "\u001b[1;31mTypeError\u001b[0m                                 Traceback (most recent call last)",
      "Cell \u001b[1;32mIn[27], line 3\u001b[0m\n\u001b[0;32m      1\u001b[0m lista \u001b[39m=\u001b[39m []\n\u001b[0;32m      2\u001b[0m \u001b[39mfor\u001b[39;00m l \u001b[39min\u001b[39;00m c_ordenadas [\u001b[39m0\u001b[39m]:\n\u001b[1;32m----> 3\u001b[0m     \u001b[39mlist\u001b[39;49m\u001b[39m.\u001b[39;49mappend(l)\n",
      "\u001b[1;31mTypeError\u001b[0m: descriptor 'append' for 'list' objects doesn't apply to a 'str' object"
     ]
    }
   ],
   "source": [
    "lista = []\n",
    "for l in c_ordenadas [0]:\n",
    "    list.append(l)\n"
   ]
  },
  {
   "cell_type": "code",
   "execution_count": 28,
   "metadata": {},
   "outputs": [
    {
     "ename": "TypeError",
     "evalue": "descriptor 'append' for 'list' objects doesn't apply to a 'str' object",
     "output_type": "error",
     "traceback": [
      "\u001b[1;31m---------------------------------------------------------------------------\u001b[0m",
      "\u001b[1;31mTypeError\u001b[0m                                 Traceback (most recent call last)",
      "Cell \u001b[1;32mIn[28], line 3\u001b[0m\n\u001b[0;32m      1\u001b[0m lista \u001b[39m=\u001b[39m []\n\u001b[0;32m      2\u001b[0m \u001b[39mfor\u001b[39;00m l \u001b[39min\u001b[39;00m c_ordenadas [\u001b[39m0\u001b[39m]:\n\u001b[1;32m----> 3\u001b[0m     \u001b[39mlist\u001b[39;49m\u001b[39m.\u001b[39;49mappend(\u001b[39mstr\u001b[39;49m(l))\n",
      "\u001b[1;31mTypeError\u001b[0m: descriptor 'append' for 'list' objects doesn't apply to a 'str' object"
     ]
    }
   ],
   "source": [
    "lista = []\n",
    "for l in c_ordenadas [0]:\n",
    "    list.append(str(l))\n"
   ]
  },
  {
   "cell_type": "code",
   "execution_count": 29,
   "metadata": {},
   "outputs": [
    {
     "name": "stdout",
     "output_type": "stream",
     "text": [
      "<class 'str'>\n",
      "<class 'str'>\n",
      "<class 'int'>\n"
     ]
    }
   ],
   "source": [
    "lista = []\n",
    "for l in c_ordenadas [0]:\n",
    "    print(type(l))\n"
   ]
  },
  {
   "cell_type": "code",
   "execution_count": 30,
   "metadata": {},
   "outputs": [
    {
     "ename": "TypeError",
     "evalue": "'list' object is not callable",
     "output_type": "error",
     "traceback": [
      "\u001b[1;31m---------------------------------------------------------------------------\u001b[0m",
      "\u001b[1;31mTypeError\u001b[0m                                 Traceback (most recent call last)",
      "Cell \u001b[1;32mIn[30], line 3\u001b[0m\n\u001b[0;32m      1\u001b[0m lista \u001b[39m=\u001b[39m []\n\u001b[0;32m      2\u001b[0m \u001b[39mfor\u001b[39;00m l \u001b[39min\u001b[39;00m c_ordenadas [\u001b[39m0\u001b[39m]:\n\u001b[1;32m----> 3\u001b[0m     lista()\u001b[39m.\u001b[39mappend(l)\n",
      "\u001b[1;31mTypeError\u001b[0m: 'list' object is not callable"
     ]
    }
   ],
   "source": [
    "lista = []\n",
    "for l in c_ordenadas [0]:\n",
    "    lista().append(l)\n"
   ]
  },
  {
   "cell_type": "code",
   "execution_count": 31,
   "metadata": {},
   "outputs": [],
   "source": [
    "lista = list()\n",
    "for l in c_ordenadas [0]:\n",
    "    lista.append(l)\n"
   ]
  },
  {
   "cell_type": "code",
   "execution_count": 32,
   "metadata": {},
   "outputs": [
    {
     "name": "stdout",
     "output_type": "stream",
     "text": [
      "['c', 'perro', 7]\n"
     ]
    }
   ],
   "source": [
    "print(lista)"
   ]
  },
  {
   "cell_type": "code",
   "execution_count": 33,
   "metadata": {},
   "outputs": [],
   "source": [
    "lista = [('b', 'carpa', 3), ('a', 'matraca', 5), ('c', 'perro', 7)]"
   ]
  },
  {
   "cell_type": "code",
   "execution_count": 34,
   "metadata": {},
   "outputs": [
    {
     "name": "stdout",
     "output_type": "stream",
     "text": [
      "('b', 'carpa', 3)\n",
      "('a', 'matraca', 5)\n",
      "('c', 'perro', 7)\n"
     ]
    }
   ],
   "source": [
    "for l in lista: print(l)"
   ]
  },
  {
   "cell_type": "code",
   "execution_count": 35,
   "metadata": {},
   "outputs": [
    {
     "name": "stdout",
     "output_type": "stream",
     "text": [
      "3\n"
     ]
    }
   ],
   "source": [
    "print(len(lista))"
   ]
  },
  {
   "cell_type": "code",
   "execution_count": 36,
   "metadata": {},
   "outputs": [
    {
     "ename": "SyntaxError",
     "evalue": "invalid syntax (<ipython-input-36-32d18d5aa7c0>, line 1)",
     "output_type": "error",
     "traceback": [
      "\u001b[1;36m  Cell \u001b[1;32mIn[36], line 1\u001b[1;36m\u001b[0m\n\u001b[1;33m    for l in lista: print(type(lambda))\u001b[0m\n\u001b[1;37m                                     ^\u001b[0m\n\u001b[1;31mSyntaxError\u001b[0m\u001b[1;31m:\u001b[0m invalid syntax\n"
     ]
    }
   ],
   "source": [
    "for l in lista: print(type(lambda))"
   ]
  },
  {
   "cell_type": "code",
   "execution_count": 37,
   "metadata": {},
   "outputs": [
    {
     "name": "stdout",
     "output_type": "stream",
     "text": [
      "<class 'tuple'>\n",
      "<class 'tuple'>\n",
      "<class 'tuple'>\n"
     ]
    }
   ],
   "source": [
    "for l in lista: print(type(l))"
   ]
  },
  {
   "cell_type": "code",
   "execution_count": 38,
   "metadata": {},
   "outputs": [
    {
     "name": "stdout",
     "output_type": "stream",
     "text": [
      "b\n",
      "carpa\n",
      "3\n",
      "a\n",
      "matraca\n",
      "5\n",
      "c\n",
      "perro\n",
      "7\n"
     ]
    }
   ],
   "source": [
    "for l in lista:\n",
    "    for t in range(0, len(l)):\n",
    "        print(l[t])"
   ]
  },
  {
   "cell_type": "code",
   "execution_count": 39,
   "metadata": {},
   "outputs": [
    {
     "name": "stdout",
     "output_type": "stream",
     "text": [
      "b\n",
      "a\n",
      "c\n",
      "carpa\n",
      "matraca\n",
      "perro\n",
      "3\n",
      "5\n",
      "7\n"
     ]
    }
   ],
   "source": [
    "for t in range(0, 3):\n",
    "    for l in lista:\n",
    "        print(l[t])"
   ]
  },
  {
   "cell_type": "code",
   "execution_count": 40,
   "metadata": {},
   "outputs": [],
   "source": [
    "lista = [('b', 'carpa', 3), ('a', 'matraca', 5), ('c', 'perro', 7),('d','letra',1)]"
   ]
  },
  {
   "cell_type": "code",
   "execution_count": 41,
   "metadata": {},
   "outputs": [
    {
     "name": "stdout",
     "output_type": "stream",
     "text": [
      "3\n"
     ]
    }
   ],
   "source": [
    "print(len(lista[0]))"
   ]
  },
  {
   "cell_type": "code",
   "execution_count": 42,
   "metadata": {},
   "outputs": [
    {
     "name": "stdout",
     "output_type": "stream",
     "text": [
      "4\n"
     ]
    }
   ],
   "source": [
    "print(len(lista))"
   ]
  },
  {
   "cell_type": "code",
   "execution_count": 43,
   "metadata": {},
   "outputs": [
    {
     "name": "stdout",
     "output_type": "stream",
     "text": [
      "b\n",
      "a\n",
      "c\n",
      "d\n",
      "carpa\n",
      "matraca\n",
      "perro\n",
      "letra\n",
      "3\n",
      "5\n",
      "7\n",
      "1\n"
     ]
    },
    {
     "ename": "IndexError",
     "evalue": "tuple index out of range",
     "output_type": "error",
     "traceback": [
      "\u001b[1;31m---------------------------------------------------------------------------\u001b[0m",
      "\u001b[1;31mIndexError\u001b[0m                                Traceback (most recent call last)",
      "Cell \u001b[1;32mIn[43], line 3\u001b[0m\n\u001b[0;32m      1\u001b[0m \u001b[39mfor\u001b[39;00m t \u001b[39min\u001b[39;00m \u001b[39mrange\u001b[39m(\u001b[39m0\u001b[39m, \u001b[39mlen\u001b[39m(lista)):\n\u001b[0;32m      2\u001b[0m     \u001b[39mfor\u001b[39;00m l \u001b[39min\u001b[39;00m lista:\n\u001b[1;32m----> 3\u001b[0m         \u001b[39mprint\u001b[39m(l[t])\n",
      "\u001b[1;31mIndexError\u001b[0m: tuple index out of range"
     ]
    }
   ],
   "source": [
    "for t in range(0, len(lista)):\n",
    "    for l in lista:\n",
    "        print(l[t])"
   ]
  },
  {
   "cell_type": "code",
   "execution_count": 44,
   "metadata": {},
   "outputs": [
    {
     "name": "stdout",
     "output_type": "stream",
     "text": [
      "3\n",
      "5\n",
      "7\n",
      "1\n",
      "b\n",
      "a\n",
      "c\n",
      "d\n",
      "carpa\n",
      "matraca\n",
      "perro\n",
      "letra\n",
      "3\n",
      "5\n",
      "7\n",
      "1\n"
     ]
    }
   ],
   "source": [
    "for t in range(0, len(lista)):\n",
    "    for l in lista:\n",
    "        print(l[t-1])"
   ]
  },
  {
   "cell_type": "code",
   "execution_count": 45,
   "metadata": {},
   "outputs": [
    {
     "name": "stdout",
     "output_type": "stream",
     "text": [
      "b\n",
      "a\n",
      "c\n",
      "d\n",
      "carpa\n",
      "matraca\n",
      "perro\n",
      "letra\n",
      "3\n",
      "5\n",
      "7\n",
      "1\n"
     ]
    }
   ],
   "source": [
    "for t in range(0, len(lista)-1):\n",
    "    for l in lista:\n",
    "        print(l[t])"
   ]
  }
 ],
 "metadata": {
  "language_info": {
   "codemirror_mode": {
    "name": "ipython",
    "version": 3
   },
   "file_extension": ".py",
   "mimetype": "text/x-python",
   "name": "python",
   "nbconvert_exporter": "python",
   "pygments_lexer": "ipython3",
   "version": 3
  },
  "orig_nbformat": 4
 },
 "nbformat": 4,
 "nbformat_minor": 2
}
