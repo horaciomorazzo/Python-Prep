{
 "cells": [
  {
   "cell_type": "code",
   "execution_count": 2,
   "metadata": {},
   "outputs": [],
   "source": [
    "import sys\n",
    "sys.path.append(r'C:\\Users\\horac\\OneDrive\\Escritorio\\Python-Prep\\07 - Clases & OOP\\modulos_para_ejercicio_8')"
   ]
  },
  {
   "attachments": {},
   "cell_type": "markdown",
   "metadata": {},
   "source": [
    "En las dos líneas superiores damos el camino del módulo"
   ]
  },
  {
   "cell_type": "code",
   "execution_count": 3,
   "metadata": {},
   "outputs": [],
   "source": [
    "from lasherramientas import *"
   ]
  },
  {
   "attachments": {},
   "cell_type": "markdown",
   "metadata": {},
   "source": [
    "Importamos la clase 'Herramientas' completa, del módulo lasherramientas."
   ]
  },
  {
   "cell_type": "code",
   "execution_count": 4,
   "metadata": {},
   "outputs": [],
   "source": [
    "a = Herramientas([1,2,3,4,5,6,7,7,7,8])\n"
   ]
  },
  {
   "cell_type": "code",
   "execution_count": 5,
   "metadata": {},
   "outputs": [
    {
     "name": "stdout",
     "output_type": "stream",
     "text": [
      "7\n"
     ]
    }
   ],
   "source": [
    "a.modal()"
   ]
  },
  {
   "cell_type": "code",
   "execution_count": 6,
   "metadata": {},
   "outputs": [
    {
     "name": "stdout",
     "output_type": "stream",
     "text": [
      "1 no es número primo\n",
      "2 es número primo\n",
      "3 es número primo\n",
      "4 no es número primo\n",
      "5 es número primo\n",
      "6 no es número primo\n",
      "7 es número primo\n",
      "7 es número primo\n",
      "7 es número primo\n",
      "8 no es número primo\n"
     ]
    }
   ],
   "source": [
    "a.esprimo()"
   ]
  },
  {
   "cell_type": "code",
   "execution_count": 7,
   "metadata": {},
   "outputs": [
    {
     "name": "stdout",
     "output_type": "stream",
     "text": [
      "Equivalen a 525.47 °K\n",
      "Equivalen a 527.27 °K\n",
      "Equivalen a 529.0699999999999 °K\n",
      "Equivalen a 530.87 °K\n",
      "Equivalen a 532.67 °K\n",
      "Equivalen a 534.47 °K\n",
      "Equivalen a 536.27 °K\n",
      "Equivalen a 536.27 °K\n",
      "Equivalen a 536.27 °K\n",
      "Equivalen a 538.0699999999999 °K\n"
     ]
    }
   ],
   "source": [
    "a.conversion('F','K')"
   ]
  },
  {
   "cell_type": "code",
   "execution_count": 8,
   "metadata": {},
   "outputs": [
    {
     "name": "stdout",
     "output_type": "stream",
     "text": [
      "El factorial de 1 es 1\n",
      "El factorial de 2 es 2\n",
      "El factorial de 3 es 6\n",
      "El factorial de 4 es 24\n",
      "El factorial de 5 es 120\n",
      "El factorial de 6 es 720\n",
      "El factorial de 7 es 5040\n",
      "El factorial de 7 es 5040\n",
      "El factorial de 7 es 5040\n",
      "El factorial de 8 es 40320\n"
     ]
    }
   ],
   "source": [
    "a.factorial()"
   ]
  }
 ],
 "metadata": {
  "kernelspec": {
   "display_name": "Python 3",
   "language": "python",
   "name": "python3"
  },
  "language_info": {
   "codemirror_mode": {
    "name": "ipython",
    "version": 3
   },
   "file_extension": ".py",
   "mimetype": "text/x-python",
   "name": "python",
   "nbconvert_exporter": "python",
   "pygments_lexer": "ipython3",
   "version": "3.11.2"
  },
  "orig_nbformat": 4
 },
 "nbformat": 4,
 "nbformat_minor": 2
}
