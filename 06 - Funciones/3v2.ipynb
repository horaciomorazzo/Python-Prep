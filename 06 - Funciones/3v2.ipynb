{
 "cells": [
  {
   "cell_type": "code",
   "execution_count": 12,
   "metadata": {},
   "outputs": [
    {
     "name": "stdout",
     "output_type": "stream",
     "text": [
      "[1, 1, 1, 2, 2, 2, 2, 3, 5, 6, 7, 7, 10, 10]\n",
      "14\n",
      "1\n",
      "1\n",
      "1\n",
      "2\n",
      "2\n",
      "2\n",
      "2\n",
      "3\n",
      "5\n",
      "6\n",
      "7\n",
      "7\n",
      "10\n",
      "10\n"
     ]
    }
   ],
   "source": [
    "lista = [3,2,1,1,1,7,7,10,10,5,6,2,2,2]\n",
    "lista.sort()\n",
    "print(lista)\n",
    "longitud = len(lista)\n",
    "print(longitud)\n",
    "indice = 0\n",
    "veces = 1\n",
    "for i in lista: \n",
    "    if i == lista[indice + 1]:\n",
    "        veces = veces + 1\n",
    "    else: \n",
    "        repeticiones = veces\n",
    "        veces = 1\n",
    "         \n",
    "        \n",
    "    "
   ]
  }
 ],
 "metadata": {
  "kernelspec": {
   "display_name": "Python 3",
   "language": "python",
   "name": "python3"
  },
  "language_info": {
   "codemirror_mode": {
    "name": "ipython",
    "version": 3
   },
   "file_extension": ".py",
   "mimetype": "text/x-python",
   "name": "python",
   "nbconvert_exporter": "python",
   "pygments_lexer": "ipython3",
   "version": "3.11.2"
  },
  "orig_nbformat": 4
 },
 "nbformat": 4,
 "nbformat_minor": 2
}
